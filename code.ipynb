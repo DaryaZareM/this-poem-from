{
 "cells": [
  {
   "cell_type": "markdown",
   "metadata": {},
   "source": [
    "# initialization\n",
    "#### 3 dictionary for each poet"
   ]
  },
  {
   "cell_type": "code",
   "execution_count": 441,
   "metadata": {},
   "outputs": [],
   "source": [
    "hafez={}\n",
    "ferdowsi={}\n",
    "molavi={}\n",
    "hafez2={}\n",
    "ferdowsi2={}\n",
    "molavi2={}"
   ]
  },
  {
   "cell_type": "markdown",
   "metadata": {},
   "source": [
    "# unygram"
   ]
  },
  {
   "cell_type": "code",
   "execution_count": 442,
   "metadata": {},
   "outputs": [],
   "source": [
    "with open(\"train_set/hafez_train.txt\", encoding=\"utf8\") as reader:\n",
    "    for line in reader:\n",
    "        s=s.replace('،',' ')\n",
    "        s=line.split()\n",
    "        for word in s:\n",
    "            if word in hafez:\n",
    "                hafez[word]=hafez.get(word)+1\n",
    "            else:\n",
    "                hafez[word]=1\n",
    "                "
   ]
  },
  {
   "cell_type": "code",
   "execution_count": 443,
   "metadata": {},
   "outputs": [],
   "source": [
    "with open(\"train_set/ferdowsi_train.txt\", encoding=\"utf8\") as reader:\n",
    "    for line in reader:\n",
    "        s=s.replace('،',' ')\n",
    "        s=line.split()\n",
    "        for word in s:\n",
    "            if word in ferdowsi:\n",
    "                ferdowsi[word]=ferdowsi.get(word)+1\n",
    "            else:\n",
    "                ferdowsi[word]=1"
   ]
  },
  {
   "cell_type": "code",
   "execution_count": 444,
   "metadata": {},
   "outputs": [],
   "source": [
    "with open(\"train_set/molavi_train.txt\", encoding=\"utf8\") as reader:\n",
    "    for line in reader:\n",
    "        s=s.replace('،',' ')\n",
    "        s=line.split()\n",
    "        for word in s:\n",
    "            if word in molavi:\n",
    "                molavi[word]=molavi.get(word)+1\n",
    "            else:\n",
    "                molavi[word]=1"
   ]
  },
  {
   "cell_type": "markdown",
   "metadata": {},
   "source": [
    "# bygram"
   ]
  },
  {
   "cell_type": "code",
   "execution_count": 445,
   "metadata": {},
   "outputs": [],
   "source": [
    "with open(\"train_set/hafez_train.txt\", encoding=\"utf8\") as reader:\n",
    "    for line in reader:\n",
    "        s=s.replace('،',' ')\n",
    "        s=line.split()\n",
    "        for i in range(len(s)):\n",
    "            if i == len(s)-1:\n",
    "                twoWords=s[i]+' <>'\n",
    "            else:\n",
    "                twoWords=s[i]+' '+s[i+1]\n",
    "            if twoWords in hafez2:\n",
    "                hafez2[twoWords]=hafez2.get(twoWords)+1\n",
    "            else:\n",
    "                hafez2[twoWords]=1\n",
    "    "
   ]
  },
  {
   "cell_type": "code",
   "execution_count": 446,
   "metadata": {},
   "outputs": [],
   "source": [
    "with open(\"train_set/ferdowsi_train.txt\", encoding=\"utf8\") as reader:\n",
    "    for line in reader:\n",
    "        s=s.replace('،',' ')\n",
    "        s=line.split()\n",
    "        for i in range(len(s)):\n",
    "            if i == len(s)-1:\n",
    "                twoWords=s[i]+' <>'\n",
    "            else:\n",
    "                twoWords=s[i]+' '+s[i+1]\n",
    "            if twoWords in ferdowsi2:\n",
    "                ferdowsi2[twoWords]=ferdowsi2.get(twoWords)+1\n",
    "            else:\n",
    "                ferdowsi2[twoWords]=1"
   ]
  },
  {
   "cell_type": "code",
   "execution_count": 447,
   "metadata": {},
   "outputs": [],
   "source": [
    "with open(\"train_set/molavi_train.txt\", encoding=\"utf8\") as reader:\n",
    "    for line in reader:\n",
    "        s=s.replace('،',' ')\n",
    "        s=line.split()\n",
    "        for i in range(len(s)):\n",
    "            if i == len(s)-1:\n",
    "                twoWords=s[i]+' <>'\n",
    "            else:\n",
    "                twoWords=s[i]+' '+s[i+1]\n",
    "            if twoWords in molavi2:\n",
    "                molavi2[twoWords]=molavi2.get(twoWords)+1\n",
    "            else:\n",
    "                molavi2[twoWords]=1"
   ]
  },
  {
   "cell_type": "markdown",
   "metadata": {},
   "source": [
    "# cleans the data\n",
    "### omit words with les frequency than two times"
   ]
  },
  {
   "cell_type": "code",
   "execution_count": 303,
   "metadata": {},
   "outputs": [],
   "source": [
    "new_dict = {}\n",
    "for key, value in hafez.items():\n",
    "    if value > 2:\n",
    "        new_dict[key] = value\n",
    "hafez = new_dict"
   ]
  },
  {
   "cell_type": "code",
   "execution_count": 304,
   "metadata": {},
   "outputs": [],
   "source": [
    "new_dict = {}\n",
    "for key, value in ferdowsi.items():\n",
    "    if value > 2:\n",
    "        new_dict[key] = value\n",
    "ferdowsi = new_dict"
   ]
  },
  {
   "cell_type": "code",
   "execution_count": 305,
   "metadata": {},
   "outputs": [],
   "source": [
    "new_dict = {}\n",
    "for key, value in molavi.items():\n",
    "    if value > 2:\n",
    "        new_dict[key] = value\n",
    "molavi = new_dict"
   ]
  },
  {
   "cell_type": "markdown",
   "metadata": {},
   "source": [
    "# Read the Test"
   ]
  },
  {
   "cell_type": "code",
   "execution_count": 306,
   "metadata": {},
   "outputs": [],
   "source": [
    "poets=[]\n",
    "poems=[]"
   ]
  },
  {
   "cell_type": "code",
   "execution_count": 307,
   "metadata": {},
   "outputs": [],
   "source": [
    "with open(\"test_set/test_file.txt\", encoding=\"utf8\") as reader:\n",
    "    for line in reader:\n",
    "        s=line.split('\\t')\n",
    "        poets.append(s[0])\n",
    "        poems.append(s[1])\n"
   ]
  },
  {
   "cell_type": "code",
   "execution_count": null,
   "metadata": {},
   "outputs": [],
   "source": []
  },
  {
   "cell_type": "code",
   "execution_count": 323,
   "metadata": {},
   "outputs": [],
   "source": [
    "def backoff(w1,w2,unygram,bygram,lambda1,lambda2,lambda3,beta):\n",
    "    resault=0\n",
    "    ww=w1+' '+w2\n",
    "    \n",
    "    if ww in bygram and w1 in unygram:\n",
    "        \n",
    "        resault = lambda1*bygram.get(ww)/unygram.get(w1)\n",
    "    if w1 in unygram:\n",
    "        resault+=lambda2*unygram.get(w1)/len(unygram.keys())\n",
    "    resault+=lambda3*beta\n",
    "    return resault"
   ]
  },
  {
   "cell_type": "markdown",
   "metadata": {},
   "source": [
    "### Probability of a poem to be for a poet"
   ]
  },
  {
   "cell_type": "code",
   "execution_count": 288,
   "metadata": {},
   "outputs": [],
   "source": [
    "def howMuchIn(poem,unigram,bygram,lambda1,lambda2,lambda3,beta):\n",
    "    poem=poem.split()\n",
    "    prob=0\n",
    "\n",
    "    for i in range(len(poem)):\n",
    "        if i==len(poem)-1:\n",
    "            prob+=backoff(poem[i],'<>',unigram,bygram,lambda1,lambda2,lambda3,beta)\n",
    "        else:\n",
    "            prob+=backoff(poem[i],poem[i+1],unigram,bygram,lambda1,lambda2,lambda3,beta)\n",
    "    \n",
    "    return prob"
   ]
  },
  {
   "cell_type": "markdown",
   "metadata": {},
   "source": [
    "#  poem is for which poet "
   ]
  },
  {
   "cell_type": "code",
   "execution_count": 450,
   "metadata": {},
   "outputs": [],
   "source": [
    "def whichOne(poem,lambda1,lambda2,lambda3,beta):\n",
    "    probF = howMuchIn(poem,ferdowsi,ferdowsi2,lambda1[0],lambda2[0],lambda3[0],beta[0])\n",
    "    probH = howMuchIn(poem,hafez,hafez2,lambda1[1],lambda2[1],lambda3[1],beta[1])\n",
    "    probM = howMuchIn(poem,molavi,molavi2,lambda1[2],lambda2[2],lambda3[2],beta[2])\n",
    "    m=max(probF,probH,probM)\n",
    "    #print(probF,probH,probM)\n",
    "    if probF==m:\n",
    "        return '1'\n",
    "    if probH==m:\n",
    "        return '2'\n",
    "    return '3'\n",
    "            "
   ]
  },
  {
   "cell_type": "markdown",
   "metadata": {},
   "source": [
    "# BUG dataset is not balance"
   ]
  },
  {
   "cell_type": "code",
   "execution_count": 451,
   "metadata": {},
   "outputs": [
    {
     "name": "stdout",
     "output_type": "stream",
     "text": [
      "28011 37632 35234\n",
      "5873 8401 8516\n"
     ]
    }
   ],
   "source": [
    "print(len(ferdowsi2.keys()),len(hafez2.keys()),len(molavi2.keys()))\n",
    "            \n",
    "print(len(ferdowsi.keys()),len(hafez.keys()),len(molavi.keys()))"
   ]
  },
  {
   "cell_type": "markdown",
   "metadata": {},
   "source": [
    "# lambda trainer"
   ]
  },
  {
   "cell_type": "code",
   "execution_count": 255,
   "metadata": {},
   "outputs": [],
   "source": [
    "def maxLambda(lambda1,lambda2,lambda3,beta):\n",
    "    val=[[0,0,0],[0,0,0],[0,0,0]]\n",
    "    for i in range(len(poems)):\n",
    "        temp = whichOne(poems[i],lambda1,lambda2,lambda3,beta)\n",
    "        \n",
    "        if poets[i] == temp:\n",
    "            val[1][int(temp)-1]+=1\n",
    "        else:\n",
    "            val[2][int(temp)-1]+=1\n",
    "        val[0][int(poets[i])-1]+=1\n",
    "\n",
    "    return val"
   ]
  },
  {
   "cell_type": "code",
   "execution_count": 463,
   "metadata": {
    "scrolled": true
   },
   "outputs": [
    {
     "data": {
      "text/plain": [
       "[[1000, 684, 1068], [701, 469, 645], [349, 293, 295]]"
      ]
     },
     "execution_count": 463,
     "metadata": {},
     "output_type": "execute_result"
    }
   ],
   "source": [
    "maxLambda([0.99,0.95,0.95],[0.01,0.05,0.05],[0.01,0.01,0.01],[0.02,0.01,0.001])"
   ]
  },
  {
   "cell_type": "code",
   "execution_count": 448,
   "metadata": {},
   "outputs": [
    {
     "data": {
      "text/plain": [
       "[[1000, 684, 1068], [733, 443, 635], [417, 271, 253]]"
      ]
     },
     "execution_count": 448,
     "metadata": {},
     "output_type": "execute_result"
    }
   ],
   "source": [
    "maxLambda([0.59,0.6,0.59],[0.39,0.4,0.39],[0.003,0.001,0.01],[0.02,0.001,0.001])"
   ]
  },
  {
   "cell_type": "markdown",
   "metadata": {},
   "source": [
    "## train lambda %"
   ]
  },
  {
   "cell_type": "code",
   "execution_count": 462,
   "metadata": {},
   "outputs": [
    {
     "data": {
      "text/plain": [
       "0.6595203488372093"
      ]
     },
     "execution_count": 462,
     "metadata": {},
     "output_type": "execute_result"
    }
   ],
   "source": [
    "sum(  [701, 469, 645])/2752"
   ]
  },
  {
   "cell_type": "code",
   "execution_count": null,
   "metadata": {},
   "outputs": [],
   "source": []
  },
  {
   "cell_type": "code",
   "execution_count": null,
   "metadata": {},
   "outputs": [],
   "source": []
  },
  {
   "cell_type": "code",
   "execution_count": null,
   "metadata": {},
   "outputs": [],
   "source": []
  },
  {
   "cell_type": "code",
   "execution_count": null,
   "metadata": {},
   "outputs": [],
   "source": []
  }
 ],
 "metadata": {
  "kernelspec": {
   "display_name": "Python 3",
   "language": "python",
   "name": "python3"
  },
  "language_info": {
   "codemirror_mode": {
    "name": "ipython",
    "version": 3
   },
   "file_extension": ".py",
   "mimetype": "text/x-python",
   "name": "python",
   "nbconvert_exporter": "python",
   "pygments_lexer": "ipython3",
   "version": "3.7.7"
  }
 },
 "nbformat": 4,
 "nbformat_minor": 4
}
